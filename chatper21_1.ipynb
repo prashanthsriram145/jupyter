{
 "cells": [
  {
   "cell_type": "code",
   "execution_count": 1,
   "metadata": {},
   "outputs": [
    {
     "name": "stdout",
     "output_type": "stream",
     "text": [
      "StructType(List(StructField(InvoiceNo,StringType,true),StructField(StockCode,StringType,true),StructField(Description,StringType,true),StructField(Quantity,StringType,true),StructField(InvoiceDate,StringType,true),StructField(UnitPrice,StringType,true),StructField(CustomerID,StringType,true),StructField(Country,StringType,true)))\n"
     ]
    }
   ],
   "source": [
    "\n",
    "from pyspark.sql import SparkSession\n",
    "\n",
    "spark = SparkSession.builder.appName(\"chapter21_1\").getOrCreate()\n",
    "\n",
    "staticDF = spark.read.format(\"csv\").option(\"header\", \"true\").load(\"retail-data/by-day/*.csv\")\n",
    "static_schema = staticDF.schema\n",
    "\n",
    "print(static_schema)\n",
    "\n",
    "\n",
    "streamingDF = spark.readStream.format(\"csv\").option(\"header\", \"true\").schema(static_schema).load(\"retail-data/by-day/*.csv\")\n",
    "\n",
    "purchaseByHourDF = streamingDF.selectExpr(\"CustomerID\", \"Quantity * UnitPrice as TotalCost\", \"InvoiceDate\").groupBy(\"CustomerID\").sum(\"TotalCost\")\n",
    "\n",
    "\n",
    "purchases_activity = purchaseByHourDF.writeStream.format(\"memory\").queryName(\"customer_purchased\").outputMode(\"complete\").start()\n",
    "\n",
    "\n",
    "\n",
    "\n"
   ]
  },
  {
   "cell_type": "code",
   "execution_count": 2,
   "metadata": {},
   "outputs": [
    {
     "name": "stdout",
     "output_type": "stream",
     "text": [
      "+----------+--------------+\n",
      "|CustomerID|sum(TotalCost)|\n",
      "+----------+--------------+\n",
      "+----------+--------------+\n",
      "\n"
     ]
    }
   ],
   "source": [
    "spark.sql(\"select * from customer_purchased\").show()"
   ]
  },
  {
   "cell_type": "code",
   "execution_count": 3,
   "metadata": {},
   "outputs": [],
   "source": [
    "static = spark.read.json(\"activity-data/\")\n",
    "dataSchema = static.schema\n",
    "\n",
    "streaming = spark.readStream.schema(dataSchema).option(\"maxFilesPerTrigger\", 1)\\\n",
    "  .json(\"activity-data\")\n",
    "\n",
    "activityCounts = streaming.groupBy(\"gt\").count()\n",
    "\n",
    "activityQuery = activityCounts.writeStream.queryName(\"activitycounts\")\\\n",
    "  .format(\"memory\").outputMode(\"complete\")\\\n",
    "  .start()\n",
    "\n",
    "\n"
   ]
  },
  {
   "cell_type": "code",
   "execution_count": 4,
   "metadata": {},
   "outputs": [
    {
     "name": "stdout",
     "output_type": "stream",
     "text": [
      "+---+-----+\n",
      "| gt|count|\n",
      "+---+-----+\n",
      "+---+-----+\n",
      "\n"
     ]
    }
   ],
   "source": [
    "spark.sql(\"SELECT * FROM activitycounts\").show()"
   ]
  },
  {
   "cell_type": "code",
   "execution_count": 5,
   "metadata": {},
   "outputs": [
    {
     "data": {
      "text/plain": [
       "<pyspark.sql.streaming.StreamingQuery at 0x7ff8a822bfa0>"
      ]
     },
     "execution_count": 5,
     "metadata": {},
     "output_type": "execute_result"
    }
   ],
   "source": [
    "from pyspark.sql.functions import expr, to_date, from_unixtime, to_timestamp\n",
    "\n",
    "streaming.withColumn(\"stairs\", expr(\"gt like '%stairs%'\"))\\\n",
    ".where(\"stairs\")\\\n",
    ".where(\"gt is not null\")\\\n",
    ".select(\"gt\", \"model\", \"arrival_time\", \"creation_time\")\\\n",
    ".writeStream.queryName(\"stairsactivity\").format(\"memory\")\\\n",
    ".outputMode(\"append\").start()"
   ]
  },
  {
   "cell_type": "code",
   "execution_count": 6,
   "metadata": {},
   "outputs": [
    {
     "name": "stdout",
     "output_type": "stream",
     "text": [
      "+---+-----+------------+-------------+\n",
      "| gt|model|arrival_time|creation_time|\n",
      "+---+-----+------------+-------------+\n",
      "+---+-----+------------+-------------+\n",
      "\n"
     ]
    }
   ],
   "source": [
    "spark.sql(\"select * from stairsactivity\").show()"
   ]
  },
  {
   "cell_type": "code",
   "execution_count": 7,
   "metadata": {},
   "outputs": [
    {
     "data": {
      "text/plain": [
       "<pyspark.sql.streaming.StreamingQuery at 0x7ff8a824c910>"
      ]
     },
     "execution_count": 7,
     "metadata": {},
     "output_type": "execute_result"
    }
   ],
   "source": [
    "historicalAgg = static.groupBy(\"gt\", \"model\").avg()\n",
    "\n",
    "streaming.drop(\"Arrival_Time\", \"Creation_Time\", \"Index\")\\\n",
    ".cube(\"gt\", \"model\").avg()\\\n",
    ".join(historicalAgg, [\"gt\", \"model\"])\\\n",
    ".writeStream.queryName(\"historical_joined_data1\").format(\"memory\")\\\n",
    ".outputMode(\"complete\").start()\n",
    "\n"
   ]
  },
  {
   "cell_type": "code",
   "execution_count": 8,
   "metadata": {},
   "outputs": [
    {
     "name": "stdout",
     "output_type": "stream",
     "text": [
      "StructType(List(StructField(Arrival_Time,LongType,true),StructField(Creation_Time,LongType,true),StructField(Device,StringType,true),StructField(Index,LongType,true),StructField(Model,StringType,true),StructField(User,StringType,true),StructField(gt,StringType,true),StructField(x,DoubleType,true),StructField(y,DoubleType,true),StructField(z,DoubleType,true)))\n",
      "+---+-----+------+------+------+-----------------+------------------+----------+------+------+------+\n",
      "|gt |model|avg(x)|avg(y)|avg(z)|avg(Arrival_Time)|avg(Creation_Time)|avg(Index)|avg(x)|avg(y)|avg(z)|\n",
      "+---+-----+------+------+------+-----------------+------------------+----------+------+------+------+\n",
      "+---+-----+------+------+------+-----------------+------------------+----------+------+------+------+\n",
      "\n"
     ]
    }
   ],
   "source": [
    "print(static.schema)\n",
    "spark.sql(\"select * from historical_joined_data1\").show(10, False)"
   ]
  },
  {
   "cell_type": "code",
   "execution_count": 26,
   "metadata": {},
   "outputs": [
    {
     "name": "stdout",
     "output_type": "stream",
     "text": [
      "The history saving thread hit an unexpected error (OperationalError('attempt to write a readonly database')).History will not be written to the database.\n"
     ]
    }
   ],
   "source": [
    "# import os\n",
    "# os.environ['PYSPARK_SUBMIT_ARGS'] = \"--packages org.apache.spark:spark-sql-kafka-0-10_2.11:2.3.0 pyspark-shell\"\n",
    "\n",
    "# from pyspark.sql import SparkSession\n",
    "# from pyspark.sql.functions import explode\n",
    "# from pyspark.sql.functions import split\n",
    "\n",
    "# bootstrapServers = \"localhost:9092\"\n",
    "# subscribeType = \"subscribe\"\n",
    "# topics = \"test\"\n",
    "\n",
    "# spark = SparkSession\\\n",
    "#     .builder\\\n",
    "#     .appName(\"StructuredKafkaWordCount\")\\\n",
    "#     .getOrCreate()\n",
    "\n",
    "# # Create DataSet representing the stream of input lines from kafka\n",
    "# lines = spark\\\n",
    "#     .readStream\\\n",
    "#     .format(\"kafka\")\\\n",
    "#     .option(\"kafka.bootstrap.servers\", bootstrapServers)\\\n",
    "#     .option(subscribeType, topics)\\\n",
    "#     .load()\\\n",
    "#     .selectExpr(\"CAST(value AS STRING)\")\n",
    "\n",
    "\n"
   ]
  },
  {
   "cell_type": "code",
   "execution_count": 27,
   "metadata": {},
   "outputs": [],
   "source": [
    "# kafkaDf = spark.readStream.format(\"kafka\")\\\n",
    "# .option(\"kafka.bootstrap.servers\", \"127.0.0.1:9092\")\\\n",
    "# .option(\"subscribe\", \"spark-topic\")\\\n",
    "# .load()\n",
    "\n",
    "\n"
   ]
  },
  {
   "cell_type": "code",
   "execution_count": 33,
   "metadata": {},
   "outputs": [
    {
     "data": {
      "text/plain": [
       "<pyspark.sql.streaming.StreamingQuery at 0x7ff8ac21b190>"
      ]
     },
     "execution_count": 33,
     "metadata": {},
     "output_type": "execute_result"
    }
   ],
   "source": [
    "from pyspark.sql.functions import window, col\n",
    "\n",
    "withEventTime = streaming.selectExpr(\"*\", \"cast(cast(Creation_Time as double)/1000000000 as timestamp) as eventTime\")\n",
    "\n",
    "withEventTime.groupBy(window(col(\"eventTime\"), \"10 minutes\"))\\\n",
    ".count()\\\n",
    ".writeStream.queryName(\"events_count\").format(\"memory\").outputMode(\"complete\").start()\n",
    "\n"
   ]
  },
  {
   "cell_type": "code",
   "execution_count": 35,
   "metadata": {},
   "outputs": [
    {
     "name": "stdout",
     "output_type": "stream",
     "text": [
      "+------------------------------------------+-----+\n",
      "|window                                    |count|\n",
      "+------------------------------------------+-----+\n",
      "|{2015-02-23 15:40:00, 2015-02-23 15:50:00}|937  |\n",
      "|{2015-02-24 18:30:00, 2015-02-24 18:40:00}|11610|\n",
      "|{2015-02-23 16:40:00, 2015-02-23 16:50:00}|8084 |\n",
      "|{2015-02-24 18:20:00, 2015-02-24 18:30:00}|18074|\n",
      "|{2015-02-24 18:40:00, 2015-02-24 18:50:00}|9278 |\n",
      "|{2015-02-23 17:40:00, 2015-02-23 17:50:00}|5101 |\n",
      "|{2015-02-23 20:10:00, 2015-02-23 20:20:00}|6592 |\n",
      "|{2015-02-24 20:00:00, 2015-02-24 20:10:00}|16117|\n",
      "|{2015-02-23 18:00:00, 2015-02-23 18:10:00}|8822 |\n",
      "|{2015-02-23 16:10:00, 2015-02-23 16:20:00}|7688 |\n",
      "+------------------------------------------+-----+\n",
      "only showing top 10 rows\n",
      "\n"
     ]
    }
   ],
   "source": [
    "spark.sql(\"select * from events_count\").show(10, False)"
   ]
  },
  {
   "cell_type": "code",
   "execution_count": 39,
   "metadata": {},
   "outputs": [
    {
     "data": {
      "text/plain": [
       "<pyspark.sql.streaming.StreamingQuery at 0x7ff8ad199bb0>"
      ]
     },
     "execution_count": 39,
     "metadata": {},
     "output_type": "execute_result"
    }
   ],
   "source": [
    "withEventTime.groupBy(window(col(\"eventTime\"), \"10 minutes\"), \"User\")\\\n",
    ".count()\\\n",
    ".writeStream.queryName(\"event_counts_per_user\").format(\"memory\").outputMode(\"complete\").start()"
   ]
  },
  {
   "cell_type": "code",
   "execution_count": 40,
   "metadata": {},
   "outputs": [
    {
     "name": "stdout",
     "output_type": "stream",
     "text": [
      "+------------------------------------------+----+-----+\n",
      "|window                                    |User|count|\n",
      "+------------------------------------------+----+-----+\n",
      "|{2015-02-24 20:20:00, 2015-02-24 20:30:00}|e   |3109 |\n",
      "|{2015-02-23 18:30:00, 2015-02-23 18:40:00}|c   |2499 |\n",
      "|{2015-02-23 19:10:00, 2015-02-23 19:20:00}|a   |2697 |\n",
      "|{2015-02-23 18:10:00, 2015-02-23 18:20:00}|c   |2377 |\n",
      "|{2015-02-23 15:40:00, 2015-02-23 15:50:00}|g   |275  |\n",
      "|{2015-02-24 18:20:00, 2015-02-24 18:30:00}|d   |2779 |\n",
      "|{2015-02-23 19:50:00, 2015-02-23 20:00:00}|h   |2243 |\n",
      "|{2015-02-23 19:40:00, 2015-02-23 19:50:00}|h   |2697 |\n",
      "|{2015-02-24 17:20:00, 2015-02-24 17:30:00}|i   |2825 |\n",
      "|{2015-02-24 19:40:00, 2015-02-24 19:50:00}|b   |2556 |\n",
      "+------------------------------------------+----+-----+\n",
      "only showing top 10 rows\n",
      "\n"
     ]
    }
   ],
   "source": [
    "spark.sql(\"select * from event_counts_per_user\").show(10, False)"
   ]
  },
  {
   "cell_type": "code",
   "execution_count": 41,
   "metadata": {},
   "outputs": [
    {
     "data": {
      "text/plain": [
       "<pyspark.sql.streaming.StreamingQuery at 0x7ff8ad3b8490>"
      ]
     },
     "execution_count": 41,
     "metadata": {},
     "output_type": "execute_result"
    }
   ],
   "source": [
    "withEventTime.groupBy(window(col(\"eventTime\"), \"10 minutes\", \"5 minutes\"))\\\n",
    ".count().writeStream.format(\"memory\")\\\n",
    ".queryName(\"events_per_sliding_window\")\\\n",
    ".outputMode(\"complete\").start()"
   ]
  },
  {
   "cell_type": "code",
   "execution_count": 43,
   "metadata": {
    "scrolled": true
   },
   "outputs": [
    {
     "name": "stdout",
     "output_type": "stream",
     "text": [
      "+------------------------------------------+-----+\n",
      "|window                                    |count|\n",
      "+------------------------------------------+-----+\n",
      "|{2015-02-23 18:25:00, 2015-02-23 18:35:00}|2873 |\n",
      "|{2015-02-23 15:40:00, 2015-02-23 15:50:00}|275  |\n",
      "|{2015-02-24 18:25:00, 2015-02-24 18:35:00}|4732 |\n",
      "|{2015-02-23 19:35:00, 2015-02-23 19:45:00}|2627 |\n",
      "|{2015-02-24 18:30:00, 2015-02-24 18:40:00}|3235 |\n",
      "|{2015-02-24 19:05:00, 2015-02-24 19:15:00}|4377 |\n",
      "|{2015-02-24 19:35:00, 2015-02-24 19:45:00}|3263 |\n",
      "|{2015-02-23 16:40:00, 2015-02-23 16:50:00}|2351 |\n",
      "|{2015-02-24 18:20:00, 2015-02-24 18:30:00}|5144 |\n",
      "|{2015-02-23 19:25:00, 2015-02-23 19:35:00}|4894 |\n",
      "+------------------------------------------+-----+\n",
      "only showing top 10 rows\n",
      "\n"
     ]
    }
   ],
   "source": [
    "spark.sql(\"select * from events_per_sliding_window\").show(10, False)"
   ]
  },
  {
   "cell_type": "code",
   "execution_count": 59,
   "metadata": {},
   "outputs": [
    {
     "data": {
      "text/plain": [
       "<pyspark.sql.streaming.StreamingQuery at 0x7ff8ad56c160>"
      ]
     },
     "execution_count": 59,
     "metadata": {},
     "output_type": "execute_result"
    }
   ],
   "source": [
    "withEventTime.withWatermark(\"eventTime\", \"30 minutes\").groupBy(window(col(\"eventTime\"), \"10 minutes\", \"5 minutes\"))\\\n",
    ".count().writeStream.format(\"memory\")\\\n",
    ".queryName(\"events_watermark_window3\")\\\n",
    ".outputMode(\"complete\").start()"
   ]
  },
  {
   "cell_type": "code",
   "execution_count": 61,
   "metadata": {},
   "outputs": [
    {
     "name": "stdout",
     "output_type": "stream",
     "text": [
      "+------------------------------------------+-----+\n",
      "|window                                    |count|\n",
      "+------------------------------------------+-----+\n",
      "|{2015-02-23 18:25:00, 2015-02-23 18:35:00}|32671|\n",
      "|{2015-02-23 15:40:00, 2015-02-23 15:50:00}|3280 |\n",
      "|{2015-02-24 18:25:00, 2015-02-24 18:35:00}|54956|\n",
      "|{2015-02-23 19:35:00, 2015-02-23 19:45:00}|29887|\n",
      "|{2015-02-24 18:30:00, 2015-02-24 18:40:00}|38225|\n",
      "|{2015-02-24 19:05:00, 2015-02-24 19:15:00}|50262|\n",
      "|{2015-02-24 19:35:00, 2015-02-24 19:45:00}|36832|\n",
      "|{2015-02-23 16:40:00, 2015-02-23 16:50:00}|26322|\n",
      "|{2015-02-24 18:20:00, 2015-02-24 18:30:00}|59253|\n",
      "|{2015-02-23 19:25:00, 2015-02-23 19:35:00}|56039|\n",
      "+------------------------------------------+-----+\n",
      "only showing top 10 rows\n",
      "\n"
     ]
    }
   ],
   "source": [
    "spark.sql(\"select * from events_watermark_window3\").show(10, False)"
   ]
  }
 ],
 "metadata": {
  "kernelspec": {
   "display_name": "Python 3",
   "language": "python",
   "name": "python3"
  },
  "language_info": {
   "codemirror_mode": {
    "name": "ipython",
    "version": 3
   },
   "file_extension": ".py",
   "mimetype": "text/x-python",
   "name": "python",
   "nbconvert_exporter": "python",
   "pygments_lexer": "ipython3",
   "version": "3.8.5"
  }
 },
 "nbformat": 4,
 "nbformat_minor": 4
}
