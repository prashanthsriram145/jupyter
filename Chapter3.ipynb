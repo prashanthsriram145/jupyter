{
 "cells": [
  {
   "cell_type": "code",
   "execution_count": 2,
   "metadata": {},
   "outputs": [
    {
     "name": "stdout",
     "output_type": "stream",
     "text": [
      "StructType(List(StructField(InvoiceNo,StringType,true),StructField(StockCode,StringType,true),StructField(Description,StringType,true),StructField(Quantity,StringType,true),StructField(InvoiceDate,StringType,true),StructField(UnitPrice,StringType,true),StructField(CustomerID,StringType,true),StructField(Country,StringType,true)))\n"
     ]
    }
   ],
   "source": [
    "from pyspark.sql import SparkSession\n",
    "from pyspark.sql.functions import col, window\n",
    "\n",
    "spark = SparkSession.builder.appName(\"Chapter3\").getOrCreate()\n",
    "\n",
    "staticDF = spark.read.format(\"csv\").option(\"header\", \"true\").load(\"retail-data/by-day/*.csv\")\n",
    "static_schema = staticDF.schema\n",
    "\n",
    "print(static_schema)\n",
    "\n"
   ]
  },
  {
   "cell_type": "code",
   "execution_count": 3,
   "metadata": {},
   "outputs": [
    {
     "name": "stdout",
     "output_type": "stream",
     "text": [
      "+----------+--------------------+------------------+\n",
      "|CustomerID|              window|    sum(TotalCost)|\n",
      "+----------+--------------------+------------------+\n",
      "|   15274.0|{2011-12-05 05:30...|            332.58|\n",
      "|   14719.0|{2011-12-08 05:30...|406.41999999999985|\n",
      "|   16794.0|{2011-12-08 05:30...|100.66000000000003|\n",
      "|   12464.0|{2011-11-29 05:30...|             281.9|\n",
      "|   15269.0|{2011-11-16 05:30...|             408.8|\n",
      "|   12720.0|{2011-11-16 05:30...|            409.02|\n",
      "|   15900.0|{2011-11-16 05:30...| 351.1099999999999|\n",
      "|   12600.0|{2011-11-11 05:30...|379.58000000000004|\n",
      "|   16161.0|{2010-12-06 05:30...|125.20000000000002|\n",
      "|   14646.0|{2011-11-23 05:30...|10078.640000000003|\n",
      "+----------+--------------------+------------------+\n",
      "only showing top 10 rows\n",
      "\n"
     ]
    }
   ],
   "source": [
    "staticDF.selectExpr(\"CustomerID\", \"Quantity * UnitPrice as TotalCost\", \"InvoiceDate\").groupBy(col(\"CustomerID\"), window(col(\"InvoiceDate\"), \"1 day\")).sum(\"TotalCost\").show(10)"
   ]
  },
  {
   "cell_type": "code",
   "execution_count": 4,
   "metadata": {},
   "outputs": [
    {
     "data": {
      "text/plain": [
       "<pyspark.sql.streaming.StreamingQuery at 0x7fc9bef5ce80>"
      ]
     },
     "execution_count": 4,
     "metadata": {},
     "output_type": "execute_result"
    }
   ],
   "source": [
    "streamingDF = spark.readStream.format(\"csv\").option(\"header\", \"true\").schema(static_schema).load(\"retail-data/by-day/*.csv\")\n",
    "\n",
    "purchaseByHourDF = streamingDF.selectExpr(\"CustomerID\", \"Quantity * UnitPrice as TotalCost\", \"InvoiceDate\").groupBy(\"CustomerID\").sum(\"TotalCost\")\n",
    "\n",
    "\n",
    "purchaseByHourDF.writeStream.format(\"memory\").queryName(\"customer_purchased\").outputMode(\"complete\").start()\n",
    "\n",
    "\n"
   ]
  },
  {
   "cell_type": "code",
   "execution_count": 7,
   "metadata": {},
   "outputs": [
    {
     "name": "stdout",
     "output_type": "stream",
     "text": [
      "+----------+------------------+\n",
      "|CustomerID|    sum(TotalCost)|\n",
      "+----------+------------------+\n",
      "|   14349.0|133.50000000000006|\n",
      "|   16553.0|           5664.57|\n",
      "|   12535.0| 716.3500000000001|\n",
      "|   17966.0|           1098.43|\n",
      "|   13514.0|152.20000000000002|\n",
      "+----------+------------------+\n",
      "only showing top 5 rows\n",
      "\n"
     ]
    }
   ],
   "source": [
    "spark.sql(\"select * from customer_purchased\").show(5)"
   ]
  },
  {
   "cell_type": "code",
   "execution_count": null,
   "metadata": {},
   "outputs": [],
   "source": []
  }
 ],
 "metadata": {
  "kernelspec": {
   "display_name": "Python 3",
   "language": "python",
   "name": "python3"
  },
  "language_info": {
   "codemirror_mode": {
    "name": "ipython",
    "version": 3
   },
   "file_extension": ".py",
   "mimetype": "text/x-python",
   "name": "python",
   "nbconvert_exporter": "python",
   "pygments_lexer": "ipython3",
   "version": "3.8.5"
  }
 },
 "nbformat": 4,
 "nbformat_minor": 4
}
