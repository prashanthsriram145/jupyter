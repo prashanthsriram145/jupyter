{
 "cells": [
  {
   "cell_type": "code",
   "execution_count": null,
   "metadata": {},
   "outputs": [],
   "source": [
    "from pyspark.sql import SparkSession\n",
    "\n",
    "spark = SparkSession.builder.appName(\"chapter21\").getOrCreate()\n",
    "\n",
    "df = spark.read.format(\"json\").load(\"activity-data\")\n",
    "schema = df.schema\n",
    "\n",
    "print(schema)\n",
    "# streaming = spark.readStream.format(\"json\").schema(schema).option(\"maxFilesPerTrigger\", 1).load(\"activity-data\")\n",
    "\n",
    "# activityCounts = streaming.groupBy(\"gt\").count()\n",
    "\n",
    "# activityQuery = activityCounts.writeStream.queryName(\"activity_counts\").format(\"memory\").outputMode(\"complete\").start()\n",
    "\n",
    "# activityQuery.awaitTermination()\n",
    "\n",
    "# from time import sleep\n",
    "# print(\"Showing streaming results: \")\n",
    "# for x in range(15):\n",
    "#     spark.sql(\"select * from activity_counts\").show()\n",
    "#     sleep(1)"
   ]
  },
  {
   "cell_type": "code",
   "execution_count": null,
   "metadata": {},
   "outputs": [],
   "source": []
  }
 ],
 "metadata": {
  "kernelspec": {
   "display_name": "Python 3",
   "language": "python",
   "name": "python3"
  },
  "language_info": {
   "codemirror_mode": {
    "name": "ipython",
    "version": 3
   },
   "file_extension": ".py",
   "mimetype": "text/x-python",
   "name": "python",
   "nbconvert_exporter": "python",
   "pygments_lexer": "ipython3",
   "version": "3.8.5"
  }
 },
 "nbformat": 4,
 "nbformat_minor": 4
}
